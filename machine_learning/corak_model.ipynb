{
  "nbformat": 4,
  "nbformat_minor": 0,
  "metadata": {
    "colab": {
      "name": "corak_model.ipynb",
      "provenance": [],
      "collapsed_sections": []
    },
    "kernelspec": {
      "name": "python3",
      "display_name": "Python 3"
    },
    "language_info": {
      "name": "python"
    },
    "accelerator": "TPU"
  },
  "cells": [
    {
      "cell_type": "code",
      "metadata": {
        "colab": {
          "resources": {
            "http://localhost:8080/nbextensions/google.colab/files.js": {
              "data": "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",
              "ok": true,
              "headers": [
                [
                  "content-type",
                  "application/javascript"
                ]
              ],
              "status": 200,
              "status_text": ""
            }
          },
          "base_uri": "https://localhost:8080/",
          "height": 89
        },
        "id": "MvWQFdgMfF7M",
        "outputId": "899b6383-b96d-4141-debe-ffd2d69c97ab"
      },
      "source": [
        "from google.colab import files\n",
        "files.upload()"
      ],
      "execution_count": null,
      "outputs": [
        {
          "output_type": "display_data",
          "data": {
            "text/html": [
              "\n",
              "     <input type=\"file\" id=\"files-ad234f0e-1fff-49aa-afe9-c170b2c169c5\" name=\"files[]\" multiple disabled\n",
              "        style=\"border:none\" />\n",
              "     <output id=\"result-ad234f0e-1fff-49aa-afe9-c170b2c169c5\">\n",
              "      Upload widget is only available when the cell has been executed in the\n",
              "      current browser session. Please rerun this cell to enable.\n",
              "      </output>\n",
              "      <script src=\"/nbextensions/google.colab/files.js\"></script> "
            ],
            "text/plain": [
              "<IPython.core.display.HTML object>"
            ]
          },
          "metadata": {
            "tags": []
          }
        },
        {
          "output_type": "stream",
          "text": [
            "Saving kaggle.json to kaggle.json\n"
          ],
          "name": "stdout"
        },
        {
          "output_type": "execute_result",
          "data": {
            "text/plain": [
              "{'kaggle.json': b'{\"username\":\"alfanme\",\"key\":\"fa3fac860fa3de1e829f7441c419e299\"}'}"
            ]
          },
          "metadata": {
            "tags": []
          },
          "execution_count": 1
        }
      ]
    },
    {
      "cell_type": "code",
      "metadata": {
        "id": "PSTIgvfDf8k7"
      },
      "source": [
        "!pip install -q kaggle\n",
        "!mkdir ~/.kaggle\n",
        "!cp kaggle.json ~/.kaggle/\n",
        "!chmod 600 ~/.kaggle/kaggle.json"
      ],
      "execution_count": null,
      "outputs": []
    },
    {
      "cell_type": "code",
      "metadata": {
        "colab": {
          "base_uri": "https://localhost:8080/"
        },
        "id": "JwriszE8fYCq",
        "outputId": "7c97aff3-c6b1-4469-d402-bd02bf43a668"
      },
      "source": [
        "!kaggle datasets download -d alfanme/indonesian-batik-motifs-corak-app"
      ],
      "execution_count": null,
      "outputs": [
        {
          "output_type": "stream",
          "text": [
            "Downloading indonesian-batik-motifs-corak-app.zip to /content\n",
            " 92% 105M/114M [00:06<00:00, 15.1MB/s] \n",
            "100% 114M/114M [00:06<00:00, 19.3MB/s]\n"
          ],
          "name": "stdout"
        }
      ]
    },
    {
      "cell_type": "code",
      "metadata": {
        "id": "3Lr48Cltfgec"
      },
      "source": [
        "!unzip -qq /content/indonesian-batik-motifs-corak-app.zip"
      ],
      "execution_count": null,
      "outputs": []
    },
    {
      "cell_type": "code",
      "metadata": {
        "id": "Iuww5lFggaLQ"
      },
      "source": [
        "from tensorflow.keras import Sequential\n",
        "from tensorflow.keras.layers import Dense, Dropout\n",
        "from tensorflow.keras.optimizers import Adam\n",
        "from tensorflow.keras.preprocessing.image import ImageDataGenerator, img_to_array, load_img\n",
        "from tensorflow.keras.backend import clear_session\n",
        "from tensorflow.keras.callbacks import TensorBoard\n",
        "from tensorflow.keras.applications import MobileNetV2\n",
        "from tensorflow.keras.models import load_model\n",
        "import tensorflow as tf\n",
        "import matplotlib.pyplot as plt\n",
        "import numpy as np\n",
        "import os"
      ],
      "execution_count": null,
      "outputs": []
    },
    {
      "cell_type": "code",
      "metadata": {
        "colab": {
          "base_uri": "https://localhost:8080/"
        },
        "id": "WcoIEyrtgjCa",
        "outputId": "63d9b4f4-6809-4de6-8d13-9dd22222c5db"
      },
      "source": [
        "train_path = '/content/DATASETmin/DATASETmin/TRAIN'\n",
        "test_path = '/content/DATASETmin/DATASETmin/TEST'\n",
        "\n",
        "train_datagen = ImageDataGenerator(\n",
        "    rescale=1./255,\n",
        "    shear_range=0.2,\n",
        "    rotation_range=60,\n",
        "    fill_mode='reflect',\n",
        "    zoom_range=0.2,\n",
        "    brightness_range=[0.8, 1.2],\n",
        "    width_shift_range=0.2,\n",
        "    height_shift_range=0.2,\n",
        "    horizontal_flip=True,\n",
        "    vertical_flip=True\n",
        ")\n",
        "\n",
        "validation_datagen = ImageDataGenerator(rescale=1./255)\n",
        "\n",
        "train_generator = train_datagen.flow_from_directory(\n",
        "    directory=train_path,\n",
        "    target_size=(224,224),\n",
        "    class_mode='categorical',\n",
        "    batch_size=20,\n",
        "    color_mode='rgb'\n",
        ")\n",
        "\n",
        "validation_generator = validation_datagen.flow_from_directory(\n",
        "    directory=test_path,\n",
        "    target_size=(224,224),\n",
        "    class_mode='categorical',\n",
        "    batch_size=20,\n",
        "    color_mode='rgb'\n",
        ")\n",
        "\n",
        "motives_dict = train_generator.class_indices\n",
        "print(motives_dict)"
      ],
      "execution_count": null,
      "outputs": [
        {
          "output_type": "stream",
          "text": [
            "Found 700 images belonging to 10 classes.\n",
            "Found 200 images belonging to 10 classes.\n",
            "{'Batik Cendrawasih': 0, 'Batik Dayak': 1, 'Batik Ikat Celup': 2, 'Batik Insang': 3, 'Batik Kawung': 4, 'Batik Megamendung': 5, 'Batik Parang': 6, 'Batik Poleng': 7, 'Batik Sekar Jagad': 8, 'Batik Tambal': 9}\n"
          ],
          "name": "stdout"
        }
      ]
    },
    {
      "cell_type": "code",
      "metadata": {
        "colab": {
          "base_uri": "https://localhost:8080/"
        },
        "id": "wNXB_hlqg4CW",
        "outputId": "04f384a9-12fe-416c-8e05-927f16c1d65e"
      },
      "source": [
        "base_model = MobileNetV2(\n",
        "    include_top=False,\n",
        "    weights='imagenet',\n",
        "    input_shape=(224, 224, 3),\n",
        "    alpha=0.5,\n",
        "    pooling='avg'\n",
        ")\n",
        "\n",
        "base_model.trainable = False"
      ],
      "execution_count": null,
      "outputs": [
        {
          "output_type": "stream",
          "text": [
            "Downloading data from https://storage.googleapis.com/tensorflow/keras-applications/mobilenet_v2/mobilenet_v2_weights_tf_dim_ordering_tf_kernels_0.5_224_no_top.h5\n",
            "3203072/3201480 [==============================] - 0s 0us/step\n"
          ],
          "name": "stdout"
        }
      ]
    },
    {
      "cell_type": "code",
      "metadata": {
        "colab": {
          "base_uri": "https://localhost:8080/"
        },
        "id": "70Yw81CFg9yT",
        "outputId": "87baf7c6-b2f9-463e-8e64-43e3f00ee3cc"
      },
      "source": [
        "EPOCHS = 50\n",
        "LEARNING_RATE = 1e-4\n",
        "TRAIN_STEP = 700//20\n",
        "VAL_STEP = 200//20\n",
        "\n",
        "clear_session()\n",
        "\n",
        "model = Sequential([\n",
        "    base_model,\n",
        "    Dense(128, activation='relu'),\n",
        "    Dropout(0.25),\n",
        "    Dense(10, activation='softmax')\n",
        "])\n",
        "\n",
        "model.compile(\n",
        "    optimizer=Adam(learning_rate=LEARNING_RATE),\n",
        "    loss='categorical_crossentropy',\n",
        "    metrics=['accuracy'],\n",
        ")\n",
        "\n",
        "model.summary()\n",
        "\n",
        "history = model.fit(\n",
        "    train_generator,\n",
        "    validation_data=validation_generator,\n",
        "    steps_per_epoch=TRAIN_STEP,\n",
        "    validation_steps=VAL_STEP,\n",
        "    shuffle=True,\n",
        "    epochs=EPOCHS,\n",
        ")"
      ],
      "execution_count": null,
      "outputs": [
        {
          "output_type": "stream",
          "text": [
            "Model: \"sequential\"\n",
            "_________________________________________________________________\n",
            "Layer (type)                 Output Shape              Param #   \n",
            "=================================================================\n",
            "mobilenetv2_0.50_224 (Functi (None, 1280)              706224    \n",
            "_________________________________________________________________\n",
            "dense (Dense)                (None, 128)               163968    \n",
            "_________________________________________________________________\n",
            "dropout (Dropout)            (None, 128)               0         \n",
            "_________________________________________________________________\n",
            "dense_1 (Dense)              (None, 10)                1290      \n",
            "=================================================================\n",
            "Total params: 871,482\n",
            "Trainable params: 165,258\n",
            "Non-trainable params: 706,224\n",
            "_________________________________________________________________\n",
            "Epoch 1/50\n",
            "35/35 [==============================] - 23s 592ms/step - loss: 2.4526 - accuracy: 0.1286 - val_loss: 2.0361 - val_accuracy: 0.2650\n",
            "Epoch 2/50\n",
            "35/35 [==============================] - 20s 572ms/step - loss: 1.9410 - accuracy: 0.3114 - val_loss: 1.6871 - val_accuracy: 0.4350\n",
            "Epoch 3/50\n",
            "35/35 [==============================] - 20s 572ms/step - loss: 1.6274 - accuracy: 0.4657 - val_loss: 1.4315 - val_accuracy: 0.5650\n",
            "Epoch 4/50\n",
            "35/35 [==============================] - 20s 566ms/step - loss: 1.3634 - accuracy: 0.5629 - val_loss: 1.2416 - val_accuracy: 0.6200\n",
            "Epoch 5/50\n",
            "35/35 [==============================] - 20s 571ms/step - loss: 1.2384 - accuracy: 0.6000 - val_loss: 1.1107 - val_accuracy: 0.6700\n",
            "Epoch 6/50\n",
            "35/35 [==============================] - 20s 565ms/step - loss: 1.0527 - accuracy: 0.6814 - val_loss: 1.0082 - val_accuracy: 0.6750\n",
            "Epoch 7/50\n",
            "35/35 [==============================] - 20s 574ms/step - loss: 0.9659 - accuracy: 0.6914 - val_loss: 0.9229 - val_accuracy: 0.7050\n",
            "Epoch 8/50\n",
            "35/35 [==============================] - 20s 577ms/step - loss: 0.8751 - accuracy: 0.7357 - val_loss: 0.8689 - val_accuracy: 0.7100\n",
            "Epoch 9/50\n",
            "35/35 [==============================] - 20s 574ms/step - loss: 0.8657 - accuracy: 0.7114 - val_loss: 0.8167 - val_accuracy: 0.7200\n",
            "Epoch 10/50\n",
            "35/35 [==============================] - 20s 575ms/step - loss: 0.8069 - accuracy: 0.7500 - val_loss: 0.7957 - val_accuracy: 0.7250\n",
            "Epoch 11/50\n",
            "35/35 [==============================] - 20s 568ms/step - loss: 0.7551 - accuracy: 0.7729 - val_loss: 0.7643 - val_accuracy: 0.7350\n",
            "Epoch 12/50\n",
            "35/35 [==============================] - 20s 570ms/step - loss: 0.6944 - accuracy: 0.7886 - val_loss: 0.7354 - val_accuracy: 0.7550\n",
            "Epoch 13/50\n",
            "35/35 [==============================] - 20s 575ms/step - loss: 0.6688 - accuracy: 0.7857 - val_loss: 0.7165 - val_accuracy: 0.7550\n",
            "Epoch 14/50\n",
            "35/35 [==============================] - 20s 579ms/step - loss: 0.6508 - accuracy: 0.7771 - val_loss: 0.6944 - val_accuracy: 0.7600\n",
            "Epoch 15/50\n",
            "35/35 [==============================] - 20s 568ms/step - loss: 0.6275 - accuracy: 0.8043 - val_loss: 0.6859 - val_accuracy: 0.7700\n",
            "Epoch 16/50\n",
            "35/35 [==============================] - 20s 565ms/step - loss: 0.5738 - accuracy: 0.8214 - val_loss: 0.6655 - val_accuracy: 0.7700\n",
            "Epoch 17/50\n",
            "35/35 [==============================] - 20s 558ms/step - loss: 0.5791 - accuracy: 0.8243 - val_loss: 0.6582 - val_accuracy: 0.7800\n",
            "Epoch 18/50\n",
            "35/35 [==============================] - 20s 565ms/step - loss: 0.5720 - accuracy: 0.8257 - val_loss: 0.6467 - val_accuracy: 0.7800\n",
            "Epoch 19/50\n",
            "35/35 [==============================] - 20s 567ms/step - loss: 0.5513 - accuracy: 0.8200 - val_loss: 0.6384 - val_accuracy: 0.7850\n",
            "Epoch 20/50\n",
            "35/35 [==============================] - 20s 568ms/step - loss: 0.5033 - accuracy: 0.8329 - val_loss: 0.6185 - val_accuracy: 0.8150\n",
            "Epoch 21/50\n",
            "35/35 [==============================] - 20s 566ms/step - loss: 0.4968 - accuracy: 0.8400 - val_loss: 0.6140 - val_accuracy: 0.8050\n",
            "Epoch 22/50\n",
            "35/35 [==============================] - 20s 568ms/step - loss: 0.4643 - accuracy: 0.8529 - val_loss: 0.6210 - val_accuracy: 0.7900\n",
            "Epoch 23/50\n",
            "35/35 [==============================] - 20s 566ms/step - loss: 0.4737 - accuracy: 0.8529 - val_loss: 0.5955 - val_accuracy: 0.8050\n",
            "Epoch 24/50\n",
            "35/35 [==============================] - 20s 564ms/step - loss: 0.4602 - accuracy: 0.8443 - val_loss: 0.5909 - val_accuracy: 0.8050\n",
            "Epoch 25/50\n",
            "35/35 [==============================] - 20s 565ms/step - loss: 0.4227 - accuracy: 0.8614 - val_loss: 0.5930 - val_accuracy: 0.8000\n",
            "Epoch 26/50\n",
            "35/35 [==============================] - 20s 569ms/step - loss: 0.4262 - accuracy: 0.8629 - val_loss: 0.5858 - val_accuracy: 0.8050\n",
            "Epoch 27/50\n",
            "35/35 [==============================] - 20s 565ms/step - loss: 0.4630 - accuracy: 0.8371 - val_loss: 0.5682 - val_accuracy: 0.8050\n",
            "Epoch 28/50\n",
            "35/35 [==============================] - 20s 562ms/step - loss: 0.3915 - accuracy: 0.8871 - val_loss: 0.5680 - val_accuracy: 0.8050\n",
            "Epoch 29/50\n",
            "35/35 [==============================] - 20s 567ms/step - loss: 0.4347 - accuracy: 0.8614 - val_loss: 0.5650 - val_accuracy: 0.8100\n",
            "Epoch 30/50\n",
            "35/35 [==============================] - 20s 573ms/step - loss: 0.3790 - accuracy: 0.8957 - val_loss: 0.5682 - val_accuracy: 0.8200\n",
            "Epoch 31/50\n",
            "35/35 [==============================] - 20s 572ms/step - loss: 0.3648 - accuracy: 0.8900 - val_loss: 0.5615 - val_accuracy: 0.8100\n",
            "Epoch 32/50\n",
            "35/35 [==============================] - 20s 570ms/step - loss: 0.3720 - accuracy: 0.8871 - val_loss: 0.5415 - val_accuracy: 0.8200\n",
            "Epoch 33/50\n",
            "35/35 [==============================] - 20s 571ms/step - loss: 0.3629 - accuracy: 0.8871 - val_loss: 0.5506 - val_accuracy: 0.8150\n",
            "Epoch 34/50\n",
            "35/35 [==============================] - 20s 567ms/step - loss: 0.3456 - accuracy: 0.9014 - val_loss: 0.5467 - val_accuracy: 0.8250\n",
            "Epoch 35/50\n",
            "35/35 [==============================] - 20s 564ms/step - loss: 0.3339 - accuracy: 0.9071 - val_loss: 0.5456 - val_accuracy: 0.8200\n",
            "Epoch 36/50\n",
            "35/35 [==============================] - 20s 569ms/step - loss: 0.3398 - accuracy: 0.8786 - val_loss: 0.5477 - val_accuracy: 0.8300\n",
            "Epoch 37/50\n",
            "35/35 [==============================] - 20s 568ms/step - loss: 0.3033 - accuracy: 0.9057 - val_loss: 0.5525 - val_accuracy: 0.8250\n",
            "Epoch 38/50\n",
            "35/35 [==============================] - 20s 572ms/step - loss: 0.3130 - accuracy: 0.9100 - val_loss: 0.5405 - val_accuracy: 0.8250\n",
            "Epoch 39/50\n",
            "35/35 [==============================] - 20s 571ms/step - loss: 0.3339 - accuracy: 0.9057 - val_loss: 0.5331 - val_accuracy: 0.8250\n",
            "Epoch 40/50\n",
            "35/35 [==============================] - 20s 564ms/step - loss: 0.3413 - accuracy: 0.8957 - val_loss: 0.5494 - val_accuracy: 0.8350\n",
            "Epoch 41/50\n",
            "35/35 [==============================] - 20s 559ms/step - loss: 0.3155 - accuracy: 0.8929 - val_loss: 0.5328 - val_accuracy: 0.8350\n",
            "Epoch 42/50\n",
            "35/35 [==============================] - 21s 586ms/step - loss: 0.2963 - accuracy: 0.9086 - val_loss: 0.5356 - val_accuracy: 0.8300\n",
            "Epoch 43/50\n",
            "35/35 [==============================] - 20s 570ms/step - loss: 0.3118 - accuracy: 0.9143 - val_loss: 0.5386 - val_accuracy: 0.8350\n",
            "Epoch 44/50\n",
            "35/35 [==============================] - 20s 569ms/step - loss: 0.2909 - accuracy: 0.9029 - val_loss: 0.5409 - val_accuracy: 0.8300\n",
            "Epoch 45/50\n",
            "35/35 [==============================] - 20s 568ms/step - loss: 0.2893 - accuracy: 0.9100 - val_loss: 0.5241 - val_accuracy: 0.8400\n",
            "Epoch 46/50\n",
            "35/35 [==============================] - 20s 575ms/step - loss: 0.2472 - accuracy: 0.9300 - val_loss: 0.5377 - val_accuracy: 0.8350\n",
            "Epoch 47/50\n",
            "35/35 [==============================] - 20s 572ms/step - loss: 0.2824 - accuracy: 0.9229 - val_loss: 0.5256 - val_accuracy: 0.8400\n",
            "Epoch 48/50\n",
            "35/35 [==============================] - 20s 569ms/step - loss: 0.2970 - accuracy: 0.9114 - val_loss: 0.5108 - val_accuracy: 0.8450\n",
            "Epoch 49/50\n",
            "35/35 [==============================] - 20s 566ms/step - loss: 0.2751 - accuracy: 0.9200 - val_loss: 0.5260 - val_accuracy: 0.8350\n",
            "Epoch 50/50\n",
            "35/35 [==============================] - 20s 572ms/step - loss: 0.2419 - accuracy: 0.9329 - val_loss: 0.5248 - val_accuracy: 0.8450\n"
          ],
          "name": "stdout"
        }
      ]
    },
    {
      "cell_type": "code",
      "metadata": {
        "colab": {
          "base_uri": "https://localhost:8080/",
          "height": 404
        },
        "id": "gByhre-Lhger",
        "outputId": "f1fb4fb5-6b99-46b1-d20c-55edbb3613b6"
      },
      "source": [
        "train_acc = history.history['accuracy']\n",
        "train_loss = history.history['loss']\n",
        "val_acc = history.history['val_accuracy']\n",
        "val_loss = history.history['val_loss']\n",
        "\n",
        "plt.figure(figsize=(16,6))\n",
        "plt.subplot(1, 2, 1)\n",
        "plt.title('Accuracy Curve')\n",
        "plt.plot(train_acc, label='Training')\n",
        "plt.plot(val_acc, label='Validation')\n",
        "plt.legend()\n",
        "plt.xlabel('Epochs')\n",
        "plt.ylabel('Accuracy')\n",
        "\n",
        "plt.subplot(1, 2, 2)\n",
        "plt.title('Loss Curve')\n",
        "plt.plot(train_loss, label='Training')\n",
        "plt.plot(val_loss, label='Validation')\n",
        "plt.legend()\n",
        "plt.xlabel('Epochs')\n",
        "plt.ylabel('Loss')\n",
        "\n",
        "plt.show()"
      ],
      "execution_count": null,
      "outputs": [
        {
          "output_type": "display_data",
          "data": {
            "image/png": "[encoded data removed]",
            "text/plain": [
              "<Figure size 1152x432 with 2 Axes>"
            ]
          },
          "metadata": {
            "tags": [],
            "needs_background": "light"
          }
        }
      ]
    },
    {
      "cell_type": "code",
      "metadata": {
        "colab": {
          "base_uri": "https://localhost:8080/"
        },
        "id": "r8RHlt6ZhpWX",
        "outputId": "5fa83604-68fb-496d-953e-987029f66bb6"
      },
      "source": [
        "test_dir = '/content/DATASETmin/DATASETmin/TEST/'\n",
        "\n",
        "for motive in motives_dict.keys():\n",
        "    images_list = os.listdir(os.path.join(test_dir, motive))    \n",
        "    # plt.figure(figsize=(16, 20))\n",
        "\n",
        "    correct_count = 0\n",
        "\n",
        "    for idx, image in enumerate(images_list):\n",
        "        img_path = f'/content/DATASETv4/DATASET/TEST/{motive}/{image}'\n",
        "        img = load_img(img_path, target_size=(224, 224))\n",
        "\n",
        "        img_array = img_to_array(img) / 255.0\n",
        "        img_array = tf.expand_dims(img_array, 0)\n",
        "\n",
        "        motives_list = list(motives_dict.keys())\n",
        "        prediction = model(img_array)\n",
        "        pred_idx = np.argmax(prediction)\n",
        "        pred_motive = motives_list[pred_idx]\n",
        "        pred_confidence = prediction[0][pred_idx] * 100\n",
        "\n",
        "        if pred_motive == motive:\n",
        "            correct_count += 1\n",
        "\n",
        "        # plt.subplot(5, 4, idx+1)\n",
        "        # plt.title(f'Actual: {motive}\\nPrediction: {pred_motive} {pred_confidence:.2f}%')\n",
        "        # plt.imshow(img)\n",
        "        # plt.axis('off')\n",
        "    \n",
        "    print(f'{motive} Predictions --> {correct_count}/20 correct')\n",
        "# plt.show()"
      ],
      "execution_count": null,
      "outputs": [
        {
          "output_type": "stream",
          "text": [
            "Batik Cendrawasih Predictions --> 18/20 correct\n",
            "Batik Dayak Predictions --> 17/20 correct\n",
            "Batik Ikat Celup Predictions --> 18/20 correct\n",
            "Batik Insang Predictions --> 20/20 correct\n",
            "Batik Kawung Predictions --> 16/20 correct\n",
            "Batik Megamendung Predictions --> 15/20 correct\n",
            "Batik Parang Predictions --> 19/20 correct\n",
            "Batik Poleng Predictions --> 16/20 correct\n",
            "Batik Sekar Jagad Predictions --> 15/20 correct\n",
            "Batik Tambal Predictions --> 15/20 correct\n"
          ],
          "name": "stdout"
        }
      ]
    },
    {
      "cell_type": "code",
      "metadata": {
        "id": "x7ToytDdl8rJ"
      },
      "source": [
        ""
      ],
      "execution_count": null,
      "outputs": []
    }
  ]
}