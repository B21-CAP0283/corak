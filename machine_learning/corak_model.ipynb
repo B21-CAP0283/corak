{
  "nbformat": 4,
  "nbformat_minor": 0,
  "metadata": {
    "accelerator": "GPU",
    "colab": {
      "name": "corak_model.ipynb",
      "provenance": [],
      "collapsed_sections": []
    },
    "kernelspec": {
      "display_name": "Python 3",
      "name": "python3"
    },
    "language_info": {
      "name": "python"
    }
  },
  "cells": [
    {
      "cell_type": "code",
      "metadata": {
        "colab": {
          "resources": {
            "http://localhost:8080/nbextensions/google.colab/files.js": {
              "data": "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",
              "ok": true,
              "headers": [
                [
                  "content-type",
                  "application/javascript"
                ]
              ],
              "status": 200,
              "status_text": ""
            }
          },
          "base_uri": "https://localhost:8080/",
          "height": 89
        },
        "id": "MvWQFdgMfF7M",
        "outputId": "852395cf-05a2-4d88-b8dd-9d9ecc2156c3"
      },
      "source": [
        "from google.colab import files\n",
        "files.upload()"
      ],
      "execution_count": 1,
      "outputs": [
        {
          "output_type": "display_data",
          "data": {
            "text/html": [
              "\n",
              "     <input type=\"file\" id=\"files-ea9848a8-0fec-48ad-99a7-2e49ab7f6cb1\" name=\"files[]\" multiple disabled\n",
              "        style=\"border:none\" />\n",
              "     <output id=\"result-ea9848a8-0fec-48ad-99a7-2e49ab7f6cb1\">\n",
              "      Upload widget is only available when the cell has been executed in the\n",
              "      current browser session. Please rerun this cell to enable.\n",
              "      </output>\n",
              "      <script src=\"/nbextensions/google.colab/files.js\"></script> "
            ],
            "text/plain": [
              "<IPython.core.display.HTML object>"
            ]
          },
          "metadata": {
            "tags": []
          }
        },
        {
          "output_type": "stream",
          "text": [
            "Saving kaggle.json to kaggle.json\n"
          ],
          "name": "stdout"
        },
        {
          "output_type": "execute_result",
          "data": {
            "text/plain": [
              "{'kaggle.json': b'{\"username\":\"alfanme\",\"key\":\"fa3fac860fa3de1e829f7441c419e299\"}'}"
            ]
          },
          "metadata": {
            "tags": []
          },
          "execution_count": 1
        }
      ]
    },
    {
      "cell_type": "code",
      "metadata": {
        "id": "PSTIgvfDf8k7"
      },
      "source": [
        "!pip install -q kaggle\n",
        "!mkdir ~/.kaggle\n",
        "!cp kaggle.json ~/.kaggle/\n",
        "!chmod 600 ~/.kaggle/kaggle.json"
      ],
      "execution_count": 2,
      "outputs": []
    },
    {
      "cell_type": "code",
      "metadata": {
        "colab": {
          "base_uri": "https://localhost:8080/"
        },
        "id": "JwriszE8fYCq",
        "outputId": "6d435ffe-a0d5-4fd6-949a-7efc5c0e4614"
      },
      "source": [
        "!kaggle datasets download -d alfanme/indonesian-batik-motifs-corak-app"
      ],
      "execution_count": 3,
      "outputs": [
        {
          "output_type": "stream",
          "text": [
            "Downloading indonesian-batik-motifs-corak-app.zip to /content\n",
            " 88% 100M/114M [00:01<00:00, 59.9MB/s] \n",
            "100% 114M/114M [00:01<00:00, 81.2MB/s]\n"
          ],
          "name": "stdout"
        }
      ]
    },
    {
      "cell_type": "code",
      "metadata": {
        "id": "3Lr48Cltfgec"
      },
      "source": [
        "!unzip -qq /content/indonesian-batik-motifs-corak-app.zip"
      ],
      "execution_count": 4,
      "outputs": []
    },
    {
      "cell_type": "code",
      "metadata": {
        "id": "Iuww5lFggaLQ"
      },
      "source": [
        "from tensorflow.keras import Sequential, regularizers\n",
        "from tensorflow.keras.layers import Dense, Dropout, BatchNormalization\n",
        "from tensorflow.keras.optimizers import Adam\n",
        "from tensorflow.keras.preprocessing.image import ImageDataGenerator, img_to_array, load_img\n",
        "from tensorflow.keras.backend import clear_session\n",
        "from tensorflow.keras.callbacks import TensorBoard\n",
        "from tensorflow.keras.applications import MobileNetV2\n",
        "from tensorflow.keras.models import load_model\n",
        "import tensorflow as tf\n",
        "import matplotlib.pyplot as plt\n",
        "import numpy as np\n",
        "import os"
      ],
      "execution_count": 2,
      "outputs": []
    },
    {
      "cell_type": "code",
      "metadata": {
        "colab": {
          "base_uri": "https://localhost:8080/"
        },
        "id": "WcoIEyrtgjCa",
        "outputId": "df7fca88-e35f-4742-cfa9-d55c35d76e3c"
      },
      "source": [
        "train_path = '/content/DATASETmin/DATASETmin/TRAIN'\n",
        "test_path = '/content/DATASETmin/DATASETmin/TEST'\n",
        "\n",
        "train_datagen = ImageDataGenerator(\n",
        "    rescale=1./255,\n",
        "    shear_range=0.2,\n",
        "    rotation_range=90,\n",
        "    fill_mode='reflect',\n",
        "    zoom_range=0.2,\n",
        "    brightness_range=[0.8, 1.2],\n",
        "    width_shift_range=0.2,\n",
        "    height_shift_range=0.2,\n",
        "    horizontal_flip=True,\n",
        "    vertical_flip=True\n",
        ")\n",
        "\n",
        "validation_datagen = ImageDataGenerator(rescale=1./255)\n",
        "\n",
        "train_generator = train_datagen.flow_from_directory(\n",
        "    directory=train_path,\n",
        "    target_size=(224,224),\n",
        "    class_mode='categorical',\n",
        "    batch_size=20,\n",
        "    color_mode='rgb'\n",
        ")\n",
        "\n",
        "validation_generator = validation_datagen.flow_from_directory(\n",
        "    directory=test_path,\n",
        "    target_size=(224,224),\n",
        "    class_mode='categorical',\n",
        "    batch_size=20,\n",
        "    color_mode='rgb'\n",
        ")\n",
        "\n",
        "motives_dict = train_generator.class_indices\n",
        "print(motives_dict)"
      ],
      "execution_count": 3,
      "outputs": [
        {
          "output_type": "stream",
          "text": [
            "Found 700 images belonging to 10 classes.\n",
            "Found 200 images belonging to 10 classes.\n",
            "{'Batik Cendrawasih': 0, 'Batik Dayak': 1, 'Batik Ikat Celup': 2, 'Batik Insang': 3, 'Batik Kawung': 4, 'Batik Megamendung': 5, 'Batik Parang': 6, 'Batik Poleng': 7, 'Batik Sekar Jagad': 8, 'Batik Tambal': 9}\n"
          ],
          "name": "stdout"
        }
      ]
    },
    {
      "cell_type": "code",
      "metadata": {
        "id": "wNXB_hlqg4CW"
      },
      "source": [
        "base_model = MobileNetV2(\n",
        "    include_top=False,\n",
        "    weights='imagenet',\n",
        "    input_shape=(224, 224, 3),\n",
        "    alpha=0.5,\n",
        "    pooling='avg'\n",
        ")\n",
        "\n",
        "base_model.trainable = False"
      ],
      "execution_count": 4,
      "outputs": []
    },
    {
      "cell_type": "code",
      "metadata": {
        "id": "IwmN-oLQdxSL"
      },
      "source": [
        "def scheduler(epoch, lr):\n",
        "  if epoch <= 10:\n",
        "    return lr\n",
        "  elif 10 < epoch <= 20:\n",
        "    return lr * tf.math.exp(-0.1)\n",
        "  else:\n",
        "    return lr * tf.math.exp(-0.2)\n",
        "\n",
        "lr_callback = tf.keras.callbacks.LearningRateScheduler(scheduler)"
      ],
      "execution_count": 30,
      "outputs": []
    },
    {
      "cell_type": "code",
      "metadata": {
        "id": "i2ZX_s_AeBNO"
      },
      "source": [
        "EPOCHS = 50\n",
        "LEARNING_RATE = 1e-4\n",
        "TRAIN_STEP = 700//20\n",
        "VAL_STEP = 200//20"
      ],
      "execution_count": 35,
      "outputs": []
    },
    {
      "cell_type": "code",
      "metadata": {
        "colab": {
          "base_uri": "https://localhost:8080/"
        },
        "id": "70Yw81CFg9yT",
        "outputId": "cad88cd7-6e54-4cf4-c339-f05ca217feed"
      },
      "source": [
        "clear_session()\n",
        "\n",
        "model = Sequential([\n",
        "    base_model,\n",
        "    Dense(200, activation='relu',\n",
        "          kernel_regularizer=regularizers.l1_l2(l1=1e-5, l2=1e-4)\n",
        "    ),\n",
        "    Dropout(0.3),\n",
        "    Dense(10, activation='softmax')\n",
        "])\n",
        "\n",
        "model.compile(\n",
        "    optimizer=Adam(learning_rate=LEARNING_RATE),\n",
        "    loss='categorical_crossentropy',\n",
        "    metrics=['accuracy'],\n",
        ")\n",
        "\n",
        "model.summary()\n",
        "\n",
        "history = model.fit(\n",
        "    train_generator,\n",
        "    validation_data=validation_generator,\n",
        "    steps_per_epoch=TRAIN_STEP,\n",
        "    validation_steps=VAL_STEP,\n",
        "    shuffle=True,\n",
        "    epochs=EPOCHS,\n",
        "    callbacks=[lr_callback]\n",
        ")"
      ],
      "execution_count": 36,
      "outputs": [
        {
          "output_type": "stream",
          "text": [
            "Model: \"sequential\"\n",
            "_________________________________________________________________\n",
            "Layer (type)                 Output Shape              Param #   \n",
            "=================================================================\n",
            "mobilenetv2_0.50_224 (Functi (None, 1280)              706224    \n",
            "_________________________________________________________________\n",
            "dense (Dense)                (None, 200)               256200    \n",
            "_________________________________________________________________\n",
            "dropout (Dropout)            (None, 200)               0         \n",
            "_________________________________________________________________\n",
            "dense_1 (Dense)              (None, 10)                2010      \n",
            "=================================================================\n",
            "Total params: 964,434\n",
            "Trainable params: 258,210\n",
            "Non-trainable params: 706,224\n",
            "_________________________________________________________________\n",
            "Epoch 1/50\n",
            "35/35 [==============================] - 12s 280ms/step - loss: 2.5310 - accuracy: 0.1886 - val_loss: 1.9824 - val_accuracy: 0.3450\n",
            "Epoch 2/50\n",
            "35/35 [==============================] - 9s 255ms/step - loss: 1.9746 - accuracy: 0.3543 - val_loss: 1.6100 - val_accuracy: 0.5650\n",
            "Epoch 3/50\n",
            "35/35 [==============================] - 9s 254ms/step - loss: 1.5927 - accuracy: 0.5100 - val_loss: 1.3618 - val_accuracy: 0.6750\n",
            "Epoch 4/50\n",
            "35/35 [==============================] - 9s 250ms/step - loss: 1.3769 - accuracy: 0.6029 - val_loss: 1.1973 - val_accuracy: 0.7050\n",
            "Epoch 5/50\n",
            "35/35 [==============================] - 9s 255ms/step - loss: 1.2539 - accuracy: 0.6400 - val_loss: 1.0705 - val_accuracy: 0.7350\n",
            "Epoch 6/50\n",
            "35/35 [==============================] - 9s 253ms/step - loss: 1.1493 - accuracy: 0.6757 - val_loss: 0.9773 - val_accuracy: 0.7750\n",
            "Epoch 7/50\n",
            "35/35 [==============================] - 9s 254ms/step - loss: 1.0262 - accuracy: 0.6929 - val_loss: 0.9194 - val_accuracy: 0.7750\n",
            "Epoch 8/50\n",
            "35/35 [==============================] - 9s 265ms/step - loss: 0.9874 - accuracy: 0.7157 - val_loss: 0.8675 - val_accuracy: 0.7950\n",
            "Epoch 9/50\n",
            "35/35 [==============================] - 9s 264ms/step - loss: 0.9097 - accuracy: 0.7629 - val_loss: 0.8346 - val_accuracy: 0.8050\n",
            "Epoch 10/50\n",
            "35/35 [==============================] - 9s 266ms/step - loss: 0.8443 - accuracy: 0.7729 - val_loss: 0.8043 - val_accuracy: 0.8000\n",
            "Epoch 11/50\n",
            "35/35 [==============================] - 9s 265ms/step - loss: 0.8354 - accuracy: 0.7671 - val_loss: 0.7793 - val_accuracy: 0.8200\n",
            "Epoch 12/50\n",
            "35/35 [==============================] - 9s 262ms/step - loss: 0.8078 - accuracy: 0.7714 - val_loss: 0.7659 - val_accuracy: 0.8300\n",
            "Epoch 13/50\n",
            "35/35 [==============================] - 9s 255ms/step - loss: 0.7593 - accuracy: 0.7929 - val_loss: 0.7446 - val_accuracy: 0.8300\n",
            "Epoch 14/50\n",
            "35/35 [==============================] - 9s 252ms/step - loss: 0.7182 - accuracy: 0.8014 - val_loss: 0.7396 - val_accuracy: 0.8250\n",
            "Epoch 15/50\n",
            "35/35 [==============================] - 9s 253ms/step - loss: 0.7053 - accuracy: 0.8014 - val_loss: 0.7284 - val_accuracy: 0.8250\n",
            "Epoch 16/50\n",
            "35/35 [==============================] - 9s 253ms/step - loss: 0.6775 - accuracy: 0.8243 - val_loss: 0.7211 - val_accuracy: 0.8200\n",
            "Epoch 17/50\n",
            "35/35 [==============================] - 9s 253ms/step - loss: 0.6614 - accuracy: 0.8243 - val_loss: 0.7101 - val_accuracy: 0.8250\n",
            "Epoch 18/50\n",
            "35/35 [==============================] - 9s 257ms/step - loss: 0.6637 - accuracy: 0.8214 - val_loss: 0.7050 - val_accuracy: 0.8350\n",
            "Epoch 19/50\n",
            "35/35 [==============================] - 9s 252ms/step - loss: 0.6644 - accuracy: 0.8343 - val_loss: 0.6947 - val_accuracy: 0.8300\n",
            "Epoch 20/50\n",
            "35/35 [==============================] - 9s 252ms/step - loss: 0.6364 - accuracy: 0.8314 - val_loss: 0.6956 - val_accuracy: 0.8350\n",
            "Epoch 21/50\n",
            "35/35 [==============================] - 9s 251ms/step - loss: 0.6156 - accuracy: 0.8457 - val_loss: 0.6900 - val_accuracy: 0.8350\n",
            "Epoch 22/50\n",
            "35/35 [==============================] - 9s 249ms/step - loss: 0.6335 - accuracy: 0.8271 - val_loss: 0.6869 - val_accuracy: 0.8350\n",
            "Epoch 23/50\n",
            "35/35 [==============================] - 9s 249ms/step - loss: 0.6389 - accuracy: 0.8257 - val_loss: 0.6839 - val_accuracy: 0.8300\n",
            "Epoch 24/50\n",
            "35/35 [==============================] - 9s 249ms/step - loss: 0.6210 - accuracy: 0.8443 - val_loss: 0.6840 - val_accuracy: 0.8350\n",
            "Epoch 25/50\n",
            "35/35 [==============================] - 9s 249ms/step - loss: 0.5932 - accuracy: 0.8529 - val_loss: 0.6828 - val_accuracy: 0.8350\n",
            "Epoch 26/50\n",
            "35/35 [==============================] - 9s 247ms/step - loss: 0.6013 - accuracy: 0.8571 - val_loss: 0.6808 - val_accuracy: 0.8350\n",
            "Epoch 27/50\n",
            "35/35 [==============================] - 9s 249ms/step - loss: 0.6070 - accuracy: 0.8500 - val_loss: 0.6802 - val_accuracy: 0.8400\n",
            "Epoch 28/50\n",
            "35/35 [==============================] - 9s 249ms/step - loss: 0.5725 - accuracy: 0.8557 - val_loss: 0.6777 - val_accuracy: 0.8400\n",
            "Epoch 29/50\n",
            "35/35 [==============================] - 9s 248ms/step - loss: 0.6013 - accuracy: 0.8543 - val_loss: 0.6773 - val_accuracy: 0.8400\n",
            "Epoch 30/50\n",
            "35/35 [==============================] - 9s 250ms/step - loss: 0.6065 - accuracy: 0.8429 - val_loss: 0.6772 - val_accuracy: 0.8400\n",
            "Epoch 31/50\n",
            "35/35 [==============================] - 9s 252ms/step - loss: 0.6030 - accuracy: 0.8343 - val_loss: 0.6772 - val_accuracy: 0.8400\n",
            "Epoch 32/50\n",
            "35/35 [==============================] - 9s 248ms/step - loss: 0.6423 - accuracy: 0.8243 - val_loss: 0.6766 - val_accuracy: 0.8400\n",
            "Epoch 33/50\n",
            "35/35 [==============================] - 9s 250ms/step - loss: 0.5878 - accuracy: 0.8543 - val_loss: 0.6764 - val_accuracy: 0.8400\n",
            "Epoch 34/50\n",
            "35/35 [==============================] - 9s 249ms/step - loss: 0.5951 - accuracy: 0.8529 - val_loss: 0.6763 - val_accuracy: 0.8400\n",
            "Epoch 35/50\n",
            "35/35 [==============================] - 9s 249ms/step - loss: 0.6131 - accuracy: 0.8357 - val_loss: 0.6760 - val_accuracy: 0.8400\n",
            "Epoch 36/50\n",
            "35/35 [==============================] - 9s 249ms/step - loss: 0.5990 - accuracy: 0.8471 - val_loss: 0.6760 - val_accuracy: 0.8400\n",
            "Epoch 37/50\n",
            "35/35 [==============================] - 9s 248ms/step - loss: 0.6241 - accuracy: 0.8386 - val_loss: 0.6761 - val_accuracy: 0.8400\n",
            "Epoch 38/50\n",
            "35/35 [==============================] - 9s 253ms/step - loss: 0.5922 - accuracy: 0.8557 - val_loss: 0.6762 - val_accuracy: 0.8400\n",
            "Epoch 39/50\n",
            "35/35 [==============================] - 9s 249ms/step - loss: 0.5707 - accuracy: 0.8571 - val_loss: 0.6759 - val_accuracy: 0.8400\n",
            "Epoch 40/50\n",
            "35/35 [==============================] - 9s 252ms/step - loss: 0.6144 - accuracy: 0.8286 - val_loss: 0.6757 - val_accuracy: 0.8400\n",
            "Epoch 41/50\n",
            "35/35 [==============================] - 9s 252ms/step - loss: 0.5731 - accuracy: 0.8529 - val_loss: 0.6756 - val_accuracy: 0.8400\n",
            "Epoch 42/50\n",
            "35/35 [==============================] - 9s 254ms/step - loss: 0.5771 - accuracy: 0.8586 - val_loss: 0.6756 - val_accuracy: 0.8400\n",
            "Epoch 43/50\n",
            "35/35 [==============================] - 9s 251ms/step - loss: 0.5968 - accuracy: 0.8386 - val_loss: 0.6756 - val_accuracy: 0.8400\n",
            "Epoch 44/50\n",
            "35/35 [==============================] - 9s 254ms/step - loss: 0.6084 - accuracy: 0.8357 - val_loss: 0.6755 - val_accuracy: 0.8400\n",
            "Epoch 45/50\n",
            "35/35 [==============================] - 9s 252ms/step - loss: 0.6056 - accuracy: 0.8371 - val_loss: 0.6755 - val_accuracy: 0.8400\n",
            "Epoch 46/50\n",
            "35/35 [==============================] - 9s 252ms/step - loss: 0.6181 - accuracy: 0.8429 - val_loss: 0.6755 - val_accuracy: 0.8400\n",
            "Epoch 47/50\n",
            "35/35 [==============================] - 9s 251ms/step - loss: 0.5866 - accuracy: 0.8457 - val_loss: 0.6755 - val_accuracy: 0.8400\n",
            "Epoch 48/50\n",
            "35/35 [==============================] - 9s 251ms/step - loss: 0.6050 - accuracy: 0.8557 - val_loss: 0.6755 - val_accuracy: 0.8400\n",
            "Epoch 49/50\n",
            "35/35 [==============================] - 9s 253ms/step - loss: 0.5873 - accuracy: 0.8657 - val_loss: 0.6755 - val_accuracy: 0.8400\n",
            "Epoch 50/50\n",
            "35/35 [==============================] - 9s 254ms/step - loss: 0.5919 - accuracy: 0.8571 - val_loss: 0.6755 - val_accuracy: 0.8400\n"
          ],
          "name": "stdout"
        }
      ]
    },
    {
      "cell_type": "code",
      "metadata": {
        "colab": {
          "base_uri": "https://localhost:8080/",
          "height": 404
        },
        "id": "gByhre-Lhger",
        "outputId": "9ea410c4-798f-4b9c-a133-7f46fa14bcfc"
      },
      "source": [
        "train_acc = history.history['accuracy']\n",
        "train_loss = history.history['loss']\n",
        "val_acc = history.history['val_accuracy']\n",
        "val_loss = history.history['val_loss']\n",
        "\n",
        "plt.figure(figsize=(16,6))\n",
        "plt.subplot(1, 2, 1)\n",
        "plt.title('Accuracy Curve')\n",
        "plt.plot(train_acc, label='Training')\n",
        "plt.plot(val_acc, label='Validation')\n",
        "plt.legend()\n",
        "plt.xlabel('Epochs')\n",
        "plt.ylabel('Accuracy')\n",
        "\n",
        "plt.subplot(1, 2, 2)\n",
        "plt.title('Loss Curve')\n",
        "plt.plot(train_loss, label='Training')\n",
        "plt.plot(val_loss, label='Validation')\n",
        "plt.legend()\n",
        "plt.xlabel('Epochs')\n",
        "plt.ylabel('Loss')\n",
        "\n",
        "plt.show()"
      ],
      "execution_count": 37,
      "outputs": [
        {
          "output_type": "display_data",
          "data": {
            "image/png": "[encoded data removed]",
            "text/plain": [
              "<Figure size 1152x432 with 2 Axes>"
            ]
          },
          "metadata": {
            "tags": [],
            "needs_background": "light"
          }
        }
      ]
    },
    {
      "cell_type": "code",
      "metadata": {
        "colab": {
          "base_uri": "https://localhost:8080/"
        },
        "id": "r8RHlt6ZhpWX",
        "outputId": "42628e7f-0e05-4f04-d8a8-3f2a29582ae0"
      },
      "source": [
        "test_dir = '/content/DATASETmin/DATASETmin/TEST/'\n",
        "\n",
        "for motive in motives_dict.keys():\n",
        "    images_list = os.listdir(os.path.join(test_dir, motive))    \n",
        "    # plt.figure(figsize=(16, 20))\n",
        "\n",
        "    correct_count = 0\n",
        "\n",
        "    for idx, image in enumerate(images_list):\n",
        "        img_path = f'/content/DATASETmin/DATASETmin/TEST/{motive}/{image}'\n",
        "        img = load_img(img_path, target_size=(224, 224))\n",
        "\n",
        "        img_array = img_to_array(img) / 255.0\n",
        "        img_array = tf.expand_dims(img_array, 0)\n",
        "\n",
        "        motives_list = list(motives_dict.keys())\n",
        "        prediction = model(img_array)\n",
        "        pred_idx = np.argmax(prediction)\n",
        "        pred_motive = motives_list[pred_idx]\n",
        "        pred_confidence = prediction[0][pred_idx] * 100\n",
        "\n",
        "        if pred_motive == motive:\n",
        "            correct_count += 1\n",
        "\n",
        "        # plt.subplot(5, 4, idx+1)\n",
        "        # plt.title(f'Actual: {motive}\\nPrediction: {pred_motive} {pred_confidence:.2f}%')\n",
        "        # plt.imshow(img)\n",
        "        # plt.axis('off')\n",
        "    \n",
        "    print(f'{motive} Predictions --> {correct_count}/20 correct')\n",
        "# plt.show()"
      ],
      "execution_count": 38,
      "outputs": [
        {
          "output_type": "stream",
          "text": [
            "Batik Cendrawasih Predictions --> 17/20 correct\n",
            "Batik Dayak Predictions --> 18/20 correct\n",
            "Batik Ikat Celup Predictions --> 18/20 correct\n",
            "Batik Insang Predictions --> 20/20 correct\n",
            "Batik Kawung Predictions --> 16/20 correct\n",
            "Batik Megamendung Predictions --> 17/20 correct\n",
            "Batik Parang Predictions --> 18/20 correct\n",
            "Batik Poleng Predictions --> 16/20 correct\n",
            "Batik Sekar Jagad Predictions --> 14/20 correct\n",
            "Batik Tambal Predictions --> 14/20 correct\n"
          ],
          "name": "stdout"
        }
      ]
    },
    {
      "cell_type": "code",
      "metadata": {
        "id": "x7ToytDdl8rJ",
        "colab": {
          "base_uri": "https://localhost:8080/"
        },
        "outputId": "b84de97a-0f77-472e-b559-3e07f369aa73"
      },
      "source": [
        "model_save_path = \"saved_model/10_motives\"\n",
        "tf.saved_model.save(model, model_save_path)\n",
        "\n",
        "# Convert the model\n",
        "converter = tf.lite.TFLiteConverter.from_saved_model(model_save_path) # path to the SavedModel directory\n",
        "tflite_model = converter.convert()\n",
        "\n",
        "# Save the model.\n",
        "os.makedirs('tflite_models')\n",
        "with open('tflite_models/10_motives.tflite', 'wb') as f:\n",
        "  f.write(tflite_model)"
      ],
      "execution_count": 39,
      "outputs": [
        {
          "output_type": "stream",
          "text": [
            "WARNING:absl:Function `_wrapped_model` contains input name(s) mobilenetv2_0.50_224_input with unsupported characters which will be renamed to mobilenetv2_0_50_224_input in the SavedModel.\n",
            "/usr/local/lib/python3.7/dist-packages/tensorflow/python/keras/utils/generic_utils.py:497: CustomMaskWarning: Custom mask layers require a config and must override get_config. When loading, the custom mask layer must be passed to the custom_objects argument.\n",
            "  category=CustomMaskWarning)\n"
          ],
          "name": "stderr"
        },
        {
          "output_type": "stream",
          "text": [
            "WARNING:tensorflow:FOR KERAS USERS: The object that you are saving contains one or more Keras models or layers. If you are loading the SavedModel with `tf.keras.models.load_model`, continue reading (otherwise, you may ignore the following instructions). Please change your code to save with `tf.keras.models.save_model` or `model.save`, and confirm that the file \"keras.metadata\" exists in the export directory. In the future, Keras will only load the SavedModels that have this file. In other words, `tf.saved_model.save` will no longer write SavedModels that can be recovered as Keras models (this will apply in TF 2.5).\n",
            "\n",
            "FOR DEVS: If you are overwriting _tracking_metadata in your class, this property has been used to save metadata in the SavedModel. The metadta field will be deprecated soon, so please move the metadata to a different file.\n"
          ],
          "name": "stdout"
        },
        {
          "output_type": "stream",
          "text": [
            "WARNING:tensorflow:FOR KERAS USERS: The object that you are saving contains one or more Keras models or layers. If you are loading the SavedModel with `tf.keras.models.load_model`, continue reading (otherwise, you may ignore the following instructions). Please change your code to save with `tf.keras.models.save_model` or `model.save`, and confirm that the file \"keras.metadata\" exists in the export directory. In the future, Keras will only load the SavedModels that have this file. In other words, `tf.saved_model.save` will no longer write SavedModels that can be recovered as Keras models (this will apply in TF 2.5).\n",
            "\n",
            "FOR DEVS: If you are overwriting _tracking_metadata in your class, this property has been used to save metadata in the SavedModel. The metadta field will be deprecated soon, so please move the metadata to a different file.\n"
          ],
          "name": "stderr"
        },
        {
          "output_type": "stream",
          "text": [
            "INFO:tensorflow:Assets written to: saved_model/10_motives/assets\n"
          ],
          "name": "stdout"
        },
        {
          "output_type": "stream",
          "text": [
            "INFO:tensorflow:Assets written to: saved_model/10_motives/assets\n"
          ],
          "name": "stderr"
        }
      ]
    },
    {
      "cell_type": "code",
      "metadata": {
        "id": "p1QacJFYvTHn"
      },
      "source": [
        ""
      ],
      "execution_count": null,
      "outputs": []
    }
  ]
}